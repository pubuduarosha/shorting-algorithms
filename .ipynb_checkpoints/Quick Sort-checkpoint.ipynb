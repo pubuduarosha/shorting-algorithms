{
 "cells": [
  {
   "cell_type": "code",
   "execution_count": 1,
   "id": "dbfd4781",
   "metadata": {},
   "outputs": [],
   "source": [
    "def partition(array, lb, ub):\n",
    "    pivot = array[lb]\n",
    "    start = lb+1\n",
    "    end =ub\n",
    "    \n",
    "    while True:\n",
    "        while array[start] <= pivot and start <= end:\n",
    "            start = start + 1\n",
    "        while array[end] > pivot and start <= end:\n",
    "            end = end - 1  \n",
    "            \n",
    "        if start < end:\n",
    "            array[start], array[end] = array[end], array[start]\n",
    "        else:\n",
    "            break\n",
    "            \n",
    "    array[lb], array[end] = array[end], array[lb]\n",
    "    return end\n",
    "            "
   ]
  },
  {
   "cell_type": "code",
   "execution_count": 2,
   "id": "a4ede39d",
   "metadata": {},
   "outputs": [],
   "source": [
    "def quickSort(array, start, end):\n",
    "    if start >= end:\n",
    "        return\n",
    "    \n",
    "    k = partition(array, start, end)\n",
    "    quickSort(array, start, k-1)\n",
    "    quickSort(array, k+1, end)"
   ]
  },
  {
   "cell_type": "code",
   "execution_count": 3,
   "id": "9226401a",
   "metadata": {},
   "outputs": [
    {
     "name": "stdout",
     "output_type": "stream",
     "text": [
      "Before Sorting : [10, 6, 11, 8, 12, 2, 9, 15]\n"
     ]
    }
   ],
   "source": [
    "data = [10, 6, 11, 8, 12, 2, 9, 15]\n",
    "print(\"Before Sorting : {}\".format(data))"
   ]
  },
  {
   "cell_type": "code",
   "execution_count": 6,
   "id": "61d04025",
   "metadata": {},
   "outputs": [
    {
     "name": "stdout",
     "output_type": "stream",
     "text": [
      "After Sorting : [2, 6, 8, 9, 10, 11, 12, 15]\n"
     ]
    }
   ],
   "source": [
    "lb = 0\n",
    "ub = len(data) -1\n",
    "quickSort(data, lb, ub)\n",
    "print(\"After Sorting : {}\".format(data))"
   ]
  },
  {
   "cell_type": "code",
   "execution_count": null,
   "id": "59b2a866",
   "metadata": {},
   "outputs": [],
   "source": []
  }
 ],
 "metadata": {
  "kernelspec": {
   "display_name": "Python 3 (ipykernel)",
   "language": "python",
   "name": "python3"
  },
  "language_info": {
   "codemirror_mode": {
    "name": "ipython",
    "version": 3
   },
   "file_extension": ".py",
   "mimetype": "text/x-python",
   "name": "python",
   "nbconvert_exporter": "python",
   "pygments_lexer": "ipython3",
   "version": "3.9.7"
  }
 },
 "nbformat": 4,
 "nbformat_minor": 5
}
