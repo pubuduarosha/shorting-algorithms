{
 "cells": [
  {
   "cell_type": "code",
   "execution_count": 34,
   "id": "0dff4c73",
   "metadata": {},
   "outputs": [],
   "source": [
    "def bubbleShort(arr):\n",
    "    n = len(arr)\n",
    "    for k in range(0,n):\n",
    "        for j in range(0, n-k-1):\n",
    "            if arr[j] > arr[j+1]:\n",
    "                arr[j], arr[j+1] = arr[j+1], arr[j]"
   ]
  },
  {
   "cell_type": "code",
   "execution_count": 35,
   "id": "4001cdfe",
   "metadata": {},
   "outputs": [
    {
     "name": "stdout",
     "output_type": "stream",
     "text": [
      "Enter space-separated strings: 2, 33, 444, 1\n",
      "Before sorting : ['2,', '33,', '444,', '1']\n",
      "After sorting : ['1', '2,', '33,', '444,']\n"
     ]
    }
   ],
   "source": [
    "# arr = [1,33,4,22,333]\n",
    "\n",
    "arr = input(\"Enter space-separated strings: \").split()\n",
    "print(\"Before sorting : {}\".format(arr))\n",
    "\n",
    "bubbleShort(arr)\n",
    "print(\"After sorting : {}\".format(arr))"
   ]
  },
  {
   "cell_type": "code",
   "execution_count": null,
   "id": "f639d599",
   "metadata": {},
   "outputs": [],
   "source": []
  },
  {
   "cell_type": "code",
   "execution_count": null,
   "id": "5df797a9",
   "metadata": {},
   "outputs": [],
   "source": []
  },
  {
   "cell_type": "code",
   "execution_count": null,
   "id": "61bb34cf",
   "metadata": {},
   "outputs": [],
   "source": []
  }
 ],
 "metadata": {
  "kernelspec": {
   "display_name": "Python 3 (ipykernel)",
   "language": "python",
   "name": "python3"
  },
  "language_info": {
   "codemirror_mode": {
    "name": "ipython",
    "version": 3
   },
   "file_extension": ".py",
   "mimetype": "text/x-python",
   "name": "python",
   "nbconvert_exporter": "python",
   "pygments_lexer": "ipython3",
   "version": "3.9.7"
  }
 },
 "nbformat": 4,
 "nbformat_minor": 5
}
